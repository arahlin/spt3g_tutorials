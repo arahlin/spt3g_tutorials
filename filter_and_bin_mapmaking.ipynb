{
 "cells": [
  {
   "cell_type": "markdown",
   "id": "22b556df-a528-4936-b538-6307c5dcf1cc",
   "metadata": {},
   "source": [
    "# Timestream Processing and Mapmaking with SPT Data\n",
    "\n",
    "In this notebook, we'll be looking at some data from the South Pole Telescope using the [spt3g_software](https://github.com/CMB-S4/spt3g_software) code.  To get started, let's first download and install all of the necessary components.  We'll be using pre-build wheels of the software compiled by the Simons Observatory collaboration with their [`so3g` package](https://github.com/simonsobs/so3g), but using only the `spt3g.core` library that it includes."
   ]
  },
  {
   "cell_type": "code",
   "execution_count": null,
   "id": "26e39e5c-3bca-4da0-a174-bc9df3554934",
   "metadata": {},
   "outputs": [],
   "source": [
    "# install required packages\n",
    "!python -c \"import spt3g\" || pip install so3g\n",
    "\n",
    "# download dataset\n",
    "!ls spt3g_tutorial_data || ( \\\n",
    "    wget https://sptlocal.grid.uchicago.edu/~arahlin/cmb_school_2024/spt3g_tutorial_data.tar.gz && \\\n",
    "    tar xzvf spt3g_tutorial_data.tar.gz \\\n",
    ")"
   ]
  },
  {
   "cell_type": "markdown",
   "id": "3b50be77-7989-4a8a-9731-5560d16aaae2",
   "metadata": {},
   "source": [
    "While the above cell is executing (the download may take some time), spend a few minutes familiarizing yourself with the [documentation](https://cmb-s4.github.io/spt3g_software/).  Today, we'll be covering the following topics:\n",
    "\n",
    "- how to work with G3Frames and G3FrameObjects, and combining them into pipelines\n",
    "- how to use G3Units\n",
    "- how to work with detector calibration data\n",
    "- the basics of timestream processing and working with G3TimestreamMap objects\n",
    "- simple (filter-and-bin) mapmaking, which combines detector timestreams into a map on the sky\n",
    "\n",
    "Once the installation is complete, let's make sure the package works, and import all the necessary libraries into the python environment:"
   ]
  },
  {
   "cell_type": "code",
   "execution_count": null,
   "id": "4eaed692-f1e7-4cf7-b3db-9691cf1b9ff7",
   "metadata": {},
   "outputs": [],
   "source": [
    "try:\n",
    "    import spt3g\n",
    "except ImportError:\n",
    "    import so3g\n",
    "from spt3g import core\n",
    "from spt3g.core import G3Units as U\n",
    "import numpy as np\n",
    "import matplotlib.pyplot as plt"
   ]
  },
  {
   "cell_type": "markdown",
   "id": "a4fda08b-b938-4007-a690-cb33c362e39e",
   "metadata": {},
   "source": [
    "## G3 Data Format\n",
    "\n",
    "The G3 file format stores data into \"frames\", which behave much like python `dict`s, with a few additional features.  Let's start by reading in a set of static calibration data for a subset of SPT detectors.  One way to load a file from disk is to use the `G3File` class.  When initialized with a filename, this object behaves like a generator, which returns a frame when looped over.  We happen to know that this particular file contains only a single frame, so we can convert the generator into a list and return the first frame:"
   ]
  },
  {
   "cell_type": "code",
   "execution_count": null,
   "id": "0c09cf3a-860a-4b8d-ba82-1f16379d0d67",
   "metadata": {},
   "outputs": [],
   "source": [
    "fr = list(core.G3File(\"spt3g_tutorial_data/calibration.g3\"))[0]\n",
    "print(fr)"
   ]
  },
  {
   "cell_type": "markdown",
   "id": "43cfa6ca-3423-460c-aad5-38842437fabf",
   "metadata": {},
   "source": [
    "This frame contains several keys.  Let's take a look at the `DetectorCalibration` object first.  This is a mapping (i.e. a `dict`), keyed by detector name, of calibration constants for each detector in the dataset."
   ]
  },
  {
   "cell_type": "code",
   "execution_count": null,
   "id": "663e9446-f0f7-4d46-b15f-a42d7d7485c5",
   "metadata": {},
   "outputs": [],
   "source": [
    "cal = fr[\"DetectorCalibration\"]\n",
    "print(cal)\n",
    "# print the first 10 keys\n",
    "print(cal.keys()[:10])\n",
    "# print the calibration for one detector\n",
    "print(cal[\"2019.00e\"])"
   ]
  },
  {
   "cell_type": "markdown",
   "id": "c9bdaa85-c0ed-46e1-ad48-7494b6d5b8d9",
   "metadata": {},
   "source": [
    "## Units\n",
    "\n",
    "All unitful data are stored [\"in G3Units\"](https://cmb-s4.github.io/spt3g_software/units.html), meaning that they have been multiplied by some constant, whose value you do not need to know.  To convert a value in G3Units to one with physical meaning, simply divide by the units you want.  For example, let's plot the detector offsets for all of the channels in this dataset.  The detectors in the array lie on a so-called focal plane inside the telescope, so neighboring detectors do not necessarily see light rays from the same point on the sky as the telescope moves -- their pointing is shifted relative to that of the effective center, or \"boresight\" of the telescope."
   ]
  },
  {
   "cell_type": "code",
   "execution_count": null,
   "id": "9f2fb76e-6ff2-483b-bcbd-5991f808a520",
   "metadata": {},
   "outputs": [],
   "source": [
    "xoff = fr[\"DetectorXOffset\"]\n",
    "yoff = fr[\"DetectorYOffset\"]\n",
    "\n",
    "plt.plot(np.asarray(xoff.values()) / U.arcmin, np.asarray(yoff.values()) / U.arcmin, \".\", ms=1)\n",
    "plt.gca().set_aspect(\"equal\")\n",
    "plt.xlabel(\"X Offset [arcmin]\")\n",
    "plt.ylabel(\"Y Offset [arcmin]\");"
   ]
  },
  {
   "cell_type": "markdown",
   "id": "1e45f185-dc58-4e06-8d2f-f969472522d4",
   "metadata": {},
   "source": [
    "Another entry in our calibration frame is called `DetectorCalibrationUnits`, which defines the *family* of units in which detector timestreams end up when the appropriate calibration constants are applied.  The `core.G3TimestreamUnits` enum object contains the various families of units that are available.  What units family are the calibration constants stored in?"
   ]
  },
  {
   "cell_type": "code",
   "execution_count": null,
   "id": "006bdc84-7b06-4f64-88b8-96ec5ae9f13c",
   "metadata": {},
   "outputs": [],
   "source": [
    "# print the mapping from an integer value to a units family name\n",
    "print(core.G3TimestreamUnits.values)\n",
    "cal_units = core.G3TimestreamUnits.values[fr[\"DetectorCalibrationUnits\"]]\n",
    "print(cal_units)"
   ]
  },
  {
   "cell_type": "markdown",
   "id": "4ddd74c6-b3d0-4d53-b81b-0948482f92ba",
   "metadata": {},
   "source": [
    "## Modules and Pipelines\n",
    "\n",
    "A common way of manipulating SPT data is to write `modules`, which are functions or classes that take a `G3Frame` as an argument and manipulate it.  We can combine multiple modules together into a `pipeline` to analyze a stream of frames in sequence.  For more details on how this works, see the [documentation](https://cmb-s4.github.io/spt3g_software/modules.html).\n",
    "\n",
    "For example, here is a simple pipeline module that reads our timestream data and prints it out:"
   ]
  },
  {
   "cell_type": "code",
   "execution_count": null,
   "id": "4517929c-cc06-48d7-8f65-7362ca7001a7",
   "metadata": {},
   "outputs": [],
   "source": [
    "pipe = core.G3Pipeline()\n",
    "pipe.Add(core.G3Reader, filename=\"spt3g_tutorial_data/timestreams.g3\")\n",
    "pipe.Add(core.Dump)\n",
    "pipe.Run()"
   ]
  },
  {
   "cell_type": "markdown",
   "id": "b0446bf2-a0a8-4808-8d63-5731d3146fcb",
   "metadata": {},
   "source": [
    "You'll notice that the input data file contains many `Scan` frames, which themselves contain telescope boresight pointing timestreams, as well as the raw detector timestreams, all sampled at the same data rate.  The SPT scans the sky in azimuth, stepping in elevation between back-and-forth sweeps.  Let's see if we can plot up the scan pattern.  We can define a function that only works on scan frames, and insert it into our pipeline:"
   ]
  },
  {
   "cell_type": "code",
   "execution_count": null,
   "id": "3d6a2df8-76cd-4804-96c0-63f9c2f9eb37",
   "metadata": {},
   "outputs": [],
   "source": [
    "def PlotRaDec(frame):\n",
    "    # skip any frame that doesn't contain the right key\n",
    "    if \"BoresightRa\" not in frame:\n",
    "        return\n",
    "\n",
    "    # plot coordinates in real units\n",
    "    plt.plot(frame[\"BoresightRa\"] / core.G3Units.deg, frame[\"BoresightDec\"] / core.G3Units.deg)"
   ]
  },
  {
   "cell_type": "code",
   "execution_count": null,
   "id": "cf3ffdd4-69d1-45c1-84b1-d430a6a58435",
   "metadata": {},
   "outputs": [],
   "source": [
    "pipe = core.G3Pipeline()\n",
    "pipe.Add(core.G3Reader, filename=\"spt3g_tutorial_data/timestreams.g3\")\n",
    "pipe.Add(PlotRaDec)\n",
    "pipe.Run()\n",
    "\n",
    "plt.xlabel(\"Right Ascension [deg]\")\n",
    "plt.ylabel(\"Declination [deg]\");"
   ]
  },
  {
   "cell_type": "markdown",
   "id": "b0624ad4-550e-4e52-b226-e915c27516e1",
   "metadata": {},
   "source": [
    "You'll notice that the timestreams are split into sections of constant declination, and sections where the telescope is turning around and/or stepping in declination.  We can add a module to exclude these so-called \"turnaround\" frames, so that we are only keeping the data where the telescope is moving smoothly in one direction:"
   ]
  },
  {
   "cell_type": "code",
   "execution_count": null,
   "id": "2bd2a923-75a4-4704-9123-2096a5cb4235",
   "metadata": {},
   "outputs": [],
   "source": [
    "pipe = core.G3Pipeline()\n",
    "pipe.Add(core.G3Reader, filename=\"spt3g_tutorial_data/timestreams.g3\")\n",
    "pipe.Add(lambda fr: fr.get(\"Turnaround\", False) == False)\n",
    "pipe.Add(PlotRaDec)\n",
    "pipe.Run()"
   ]
  },
  {
   "cell_type": "markdown",
   "id": "973ce775-6b99-4296-b799-56e36c1555ea",
   "metadata": {},
   "source": [
    "We can also manipulate the data in the frames.  Once the frames are updated, the next module in the pipeline will receive the frame with the updated data, since this manipulation is effectively happening \"in-place\".  Let's define a function to apply the calibration constants we loaded above to the input `RawTimestreams`.  This will convert the raw detector timestreams from ADC units to units of CMB temperature.  Note that the modified timestreams are stored to a new key in the frame, because the existing key cannot be overwritten."
   ]
  },
  {
   "cell_type": "code",
   "execution_count": null,
   "id": "3d009f17-19d3-41f2-91cd-cb21206a489e",
   "metadata": {},
   "outputs": [],
   "source": [
    "def Calibrate(frame):\n",
    "    # skip frames that don't contain the input key\n",
    "    if \"RawTimestreams\" not in frame:\n",
    "        return\n",
    "\n",
    "    # get the input timestream data\n",
    "    ts_in = frame[\"RawTimestreams\"]\n",
    "    \n",
    "    # create a new output timestream object\n",
    "    ts_out = core.G3TimestreamMap()\n",
    "\n",
    "    # loop over timestreams and multiply by the calibration constant for each detector\n",
    "    for det, ts in ts_in.items():\n",
    "        ts2 = ts.astype(float) * cal[det]\n",
    "        ts2.units = cal_units  # update units\n",
    "        ts_out[det] = ts2\n",
    "\n",
    "    # store the calibrated timestreams to the output key in the frame\n",
    "    frame[\"CalTimestreams\"] = ts_out"
   ]
  },
  {
   "cell_type": "markdown",
   "id": "1f610d8f-733f-4e97-8c9e-6ab8a3ca2329",
   "metadata": {},
   "source": [
    "## Making a sky map\n",
    "\n",
    "Let's take the data for a single detector and create a sky map from it.  First, we need to define the pixel grid onto which the timestream data will be binned.  To make the math relatively easy, let's stick with Cartesian coordinates for the time being:"
   ]
  },
  {
   "cell_type": "code",
   "execution_count": null,
   "id": "2357efa6-d1c7-4d4c-94d9-0d1404403cc0",
   "metadata": {},
   "outputs": [],
   "source": [
    "# center of the sky map\n",
    "ra0 = 8.0 * U.rahour + 59.0 * U.raminute + 4.8 * U.rasecond\n",
    "dec0 = -(47.0 * U.degrees + 30.0 * U.arcmin + 36.0 * U.arcsec)\n",
    "\n",
    "# map dimensions\n",
    "xlen = 0.5 * U.deg\n",
    "ylen = 0.5 * U.deg\n",
    "\n",
    "# pixel resolution\n",
    "res = 0.5 * U.arcmin\n",
    "\n",
    "# number of bins along each axis\n",
    "nx = int(xlen / res)\n",
    "ny = int(ylen / res)\n",
    "\n",
    "# bin edges\n",
    "ra_edges = np.linspace(-xlen / 2, xlen / 2, nx + 1) + ra0\n",
    "dec_edges = np.linspace(-ylen / 2, ylen / 2, ny + 1) + dec0"
   ]
  },
  {
   "cell_type": "markdown",
   "id": "188fc43f-2e56-46af-952f-b71343097736",
   "metadata": {},
   "source": [
    "And now we need to define a module for binning the timestream data into this sky map.  We're going to iteratively update the sky map with each input frame that we read from file, so the binner cannot be a simple function.  We define a class, in which we store all of the input arguments and the output data arrays as attributes of the class.  Its `__call__` method is then used in the pipeline to update the data arrays.\n",
    "\n",
    "Notice that we are including pointing offsets for each detector.  The pointing offsets are defined relative to the telescope boresight (i.e. the effective center of the focal plane), so must be converted to sky offsets to be applied correctly."
   ]
  },
  {
   "cell_type": "code",
   "execution_count": null,
   "id": "85d6edeb-2eda-428a-acbb-f2351654e339",
   "metadata": {},
   "outputs": [],
   "source": [
    "class SingleMapBinner:\n",
    "    def __init__(self, det, timestreams=\"CalTimestreams\"):\n",
    "        self.det = det\n",
    "        self.timestreams = timestreams\n",
    "\n",
    "        # array for storing the binned timestream data\n",
    "        self.data = np.zeros((ny, nx), dtype=float)\n",
    "\n",
    "        # array for storing the number of times each pixel is \"hit\" in the timestreams\n",
    "        self.hits = np.zeros((ny, nx), dtype=float)\n",
    "    \n",
    "    def __call__(self, frame):\n",
    "        if self.timestreams not in frame:\n",
    "            return\n",
    "\n",
    "        if self.det not in frame[self.timestreams]:\n",
    "            return\n",
    "\n",
    "        ts = frame[self.timestreams][self.det]\n",
    "\n",
    "        # calculate offset pointing\n",
    "        dx = xoff[self.det] / np.cos(dec0 / U.rad)\n",
    "        dy = yoff[self.det]\n",
    "        x = np.asarray(frame[\"BoresightRa\"]) + dx\n",
    "        y = np.asarray(frame[\"BoresightDec\"]) - dy\n",
    "\n",
    "        # update data and hits, in-place\n",
    "        self.data += np.histogram2d(y, x, bins=[dec_edges, ra_edges], weights=ts)[0]\n",
    "        self.hits += np.histogram2d(y, x, bins=[dec_edges, ra_edges])[0]"
   ]
  },
  {
   "cell_type": "markdown",
   "id": "06f4d4c8-2c2c-4cbf-a92d-1f11ea088870",
   "metadata": {},
   "source": [
    "To use this module object, we first instantiate it, then add the instance to the pipeline.  This allows access to the updated `data` and `hits` attributes when the pipeline is finished running."
   ]
  },
  {
   "cell_type": "code",
   "execution_count": null,
   "id": "e19d15f2-0316-4325-816e-ff90292cfc7a",
   "metadata": {},
   "outputs": [],
   "source": [
    "# instantiate binner\n",
    "binner = SingleMapBinner(det=\"2019.00e\")\n",
    "\n",
    "# run pipeline\n",
    "pipe = core.G3Pipeline()\n",
    "pipe.Add(core.G3Reader, filename=\"spt3g_tutorial_data/timestreams.g3\")\n",
    "pipe.Add(lambda fr: fr.get(\"Turnaround\", False) == False)\n",
    "pipe.Add(Calibrate)\n",
    "pipe.Add(binner)\n",
    "pipe.Run()\n",
    "\n",
    "m = binner.data / binner.hits / U.mK\n",
    "plt.imshow(m)\n",
    "plt.colorbar(label=\"Temperature [mK]\");"
   ]
  },
  {
   "cell_type": "markdown",
   "id": "a0c48c9c-c39f-4e51-8f73-45d98a8bb88f",
   "metadata": {},
   "source": [
    "Notice that this map is not very well populated.  It seems that our one detector is barely in view of the field we're looking at.\n",
    "\n",
    "<span style=\"color:red\">EXERCISE:</span> Modify the map binner above to loop over all detectors.  Call it `MapBinner`, and run a new pipeline to plot up the resulting total sky map."
   ]
  },
  {
   "cell_type": "code",
   "execution_count": null,
   "id": "e2b74dbc-c13b-4134-88fa-6c0c4732cfcf",
   "metadata": {},
   "outputs": [],
   "source": [
    "# your code and plots go here"
   ]
  },
  {
   "cell_type": "markdown",
   "id": "e49bc75b-4bb6-4459-b6ab-b3f51a620af7",
   "metadata": {},
   "source": [
    "This map binning scheme is quite simple and relatively inefficient.  The [spt3g.maps](https://cmb-s4.github.io/spt3g_software/moddoc_maps.html) package includes definitions of sky map objects that are able to handle different sky projections and pixelization schemes, as well as tools for binning timestreams to sky maps (and vice versa) in an efficient way.\n",
    "\n",
    "This tutorial also does not touch on detector polarization or polarized mapmaking; for more details on how this works, see, for example [this pedagogical paper](https://arxiv.org/abs/astro-ph/0606606)."
   ]
  },
  {
   "cell_type": "markdown",
   "id": "7c9ad8c3-716a-472f-9ef9-e1df5cf32dd6",
   "metadata": {},
   "source": [
    "## Timestream Processing\n",
    "\n",
    "We now have a calibrated map, but it has some strange striping and large scale drifts in it, when we would have expected to see some kind of compact blob in the image.  This is because the detector timestreams drift on long timescales due to various forms of contamination: emission from our own atmosphere, thermal drifts in the internal cryogenic environment of the camera, etc.  To remove these drifts, we need to filter the timestreams in such a way as to remove these long timescale drifts.\n",
    "\n",
    "<span style=\"color:red\">EXERCISE:</span> Create a new pipeline module called `MeanFilter` that subtracts the mean value of each timestreams for each scan, and stores the resulting timestreams to a new `\"FilteredTimestreams\"` key in the scan frame.  Write a new pipeline to bin these filtered timestreams into a map.  What does the sky map look like with this coarse filter applied?  Zoom in on the color scale (e.g. by setting the `vmax` argument for `imshow`).  What features do you see in the map?"
   ]
  },
  {
   "cell_type": "code",
   "execution_count": null,
   "id": "63050f17-3800-484e-9750-d20e3dcc6584",
   "metadata": {},
   "outputs": [],
   "source": [
    "# your code and plots go here"
   ]
  },
  {
   "cell_type": "markdown",
   "id": "8dcc9037-8206-4813-bb6c-3d4c28298ea0",
   "metadata": {},
   "source": [
    "This particular image has a large and bright astrophysical source in the middle.  High-resolution telescopes like ACT and SPT are able to resolve such sources all over the sky.  However, notice that simple filtering without accounting for the existence of the source in the data results in pronounced \"wings\" along the telescope's scan direction that extend far beyond the width of the source itself.  To reduce the presence of these wings, we can mask out the source prior to applying a filter.\n",
    "\n",
    "<span style=\"color:red\">EXERCISE:</span> Modify your `MeanFilter` module to compute the timestream mean outside of an 8 arcmin radius around the source.  Call this new module `MaskedMeanFilter`.  Don't forget to account for the individual detector offsets in constructing your mask."
   ]
  },
  {
   "cell_type": "code",
   "execution_count": null,
   "id": "8a7b37d6-b32b-489c-ba90-02fa688c421d",
   "metadata": {},
   "outputs": [],
   "source": [
    "# your code and plots go here"
   ]
  },
  {
   "cell_type": "markdown",
   "id": "0dd1f5fb-33fc-4f6d-b70b-29c16232a170",
   "metadata": {},
   "source": [
    "Detector data can be filtered and processed in many more complicated ways.  For example, we could subtract a higher-order polynomial to filter out some smaller scale modes from the data.  We could also use a Fourier filter to do more complex filtering, such as notching out particular lines or limiting the frequency bandwidth of the timestreams.  A complete low-level analysis pipeline incorporates a variety of filters and data cuts in order to reconstruct the underlying sky with high signal-to-noise."
   ]
  }
 ],
 "metadata": {
  "kernelspec": {
   "display_name": "Python 3 (ipykernel)",
   "language": "python",
   "name": "python3"
  },
  "language_info": {
   "codemirror_mode": {
    "name": "ipython",
    "version": 3
   },
   "file_extension": ".py",
   "mimetype": "text/x-python",
   "name": "python",
   "nbconvert_exporter": "python",
   "pygments_lexer": "ipython3",
   "version": "3.12.3"
  }
 },
 "nbformat": 4,
 "nbformat_minor": 5
}
